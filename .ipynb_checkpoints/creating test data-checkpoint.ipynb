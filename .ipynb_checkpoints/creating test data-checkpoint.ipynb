{
 "cells": [
  {
   "cell_type": "code",
   "execution_count": 62,
   "metadata": {},
   "outputs": [],
   "source": [
    "from agents import *\n",
    "from environment_next import*\n",
    "from main import *\n",
    "import pandas as pd\n",
    "import numpy as np\n",
    "import matplotlib.pyplot as plt\n",
    "import tensorflow as tf\n",
    "import os\n",
    "from tqdm import tqdm"
   ]
  },
  {
   "cell_type": "code",
   "execution_count": 19,
   "metadata": {},
   "outputs": [
    {
     "name": "stdout",
     "output_type": "stream",
     "text": [
      "True\n"
     ]
    }
   ],
   "source": [
    "def combine_files(directory_path):\n",
    "    combined_data = pd.DataFrame()\n",
    "    lens = 0\n",
    "    for file in sorted(os.listdir(directory_path)):\n",
    "        df = pd.read_csv(os.path.join(directory_path, file))\n",
    "        combined_data = pd.concat([combined_data, df], axis=0)\n",
    "        lens += len(df)\n",
    "    return combined_data, lens\n",
    "data, lens = combine_files('stocks/ETHBTC/')"
   ]
  },
  {
   "cell_type": "code",
   "execution_count": 21,
   "metadata": {},
   "outputs": [],
   "source": [
    "data.index = pd.to_datetime(data['Date'])\n",
    "data.index.name = 'dates'\n",
    "data = data.drop('Date', axis=1)"
   ]
  },
  {
   "cell_type": "code",
   "execution_count": 78,
   "metadata": {},
   "outputs": [],
   "source": [
    "def sma(p_c, M):\n",
    "    sma = p_c.rolling(window=M).mean()\n",
    "    return sma\n",
    "\n",
    "def awesome_oscillator(p_h, p_l, period_1, period_2):\n",
    "    median_price = (p_h + p_l) / 2\n",
    "    sma_fst = sma(median_price, period_1)\n",
    "    sma_snd = sma(median_price, period_2)\n",
    "    ao = sma_fst - sma_snd\n",
    "    return ao\n",
    "\n",
    "def market_facilitation_index(p_h, p_l, volume):\n",
    "    mfi = (p_h - p_l) / volume\n",
    "    return mfi\n",
    "\n",
    "def acceleration_deceleraion(p_h, p_l, period_1, period_2, period_3):\n",
    "    ao = awesome_oscillator(p_h, p_l, period_1, period_2)\n",
    "    ac = ao - sma(ao, period_3)\n",
    "    return ac\n",
    "\n",
    "def smma(p_c, N):\n",
    "    smma = p_c[N:].ewm(alpha=1.0 / N).mean()\n",
    "    return smma\n",
    "\n",
    "def relative_strength_index(p_c, N):\n",
    "    delta = p_c.diff()\n",
    "    dUp, dDown = delta.copy(), delta.copy()\n",
    "    dUp[dUp < 0] = 0\n",
    "    dDown[dDown > 0] = 0\n",
    "    RolUp = dUp.rolling(window=N).mean()\n",
    "    RolDown = dDown.rolling(window=N).mean().abs()\n",
    "    RS = RolUp / RolDown\n",
    "    rsi = 100 - (100 / (1 + RS))\n",
    "    return rsi\n",
    "\n",
    "\n",
    "def exponential_moving_average(p_c, M):\n",
    "    weights = np.exp(np.linspace(-1., 0., M))\n",
    "    weights /= weights.sum()\n",
    "    a = np.convolve(p_c, weights, mode='full')[:len(p_c)]\n",
    "    a[:M] = a[M]\n",
    "    a = pd.Series(a, index=p_c.index)\n",
    "    return a\n",
    "\n",
    "\n",
    "def moving_average_convergence(p_c):\n",
    "    macd = exponential_moving_average(p_c, 12) - exponential_moving_average(p_c, 26)\n",
    "    signal = exponential_moving_average(macd, 9)\n",
    "    return macd, signal"
   ]
  },
  {
   "cell_type": "code",
   "execution_count": 52,
   "metadata": {},
   "outputs": [],
   "source": [
    "data['AO'] = awesome_oscillator(data['High'], data['Close'], 5 ,34)"
   ]
  },
  {
   "cell_type": "code",
   "execution_count": 55,
   "metadata": {
    "scrolled": false
   },
   "outputs": [
    {
     "name": "stdout",
     "output_type": "stream",
     "text": [
      "469281\n"
     ]
    }
   ],
   "source": [
    "data['AC'] = acceleration_deceleraion(data['High'], data['Close'], 5, 34, 5)"
   ]
  },
  {
   "cell_type": "code",
   "execution_count": 80,
   "metadata": {},
   "outputs": [],
   "source": [
    "data['RSI'] = relative_strength_index(data['Close'], 20)"
   ]
  },
  {
   "cell_type": "code",
   "execution_count": 82,
   "metadata": {},
   "outputs": [],
   "source": [
    "data['MFI'] = market_facilitation_index(data['High'], data['Low'], data['Volume'])"
   ]
  },
  {
   "cell_type": "code",
   "execution_count": 85,
   "metadata": {},
   "outputs": [],
   "source": [
    "var1, var2 = moving_average_convergence(data['Close'])\n",
    "data['MACD'] = var1 - var2\n"
   ]
  },
  {
   "cell_type": "code",
   "execution_count": 88,
   "metadata": {},
   "outputs": [],
   "source": [
    "test_data = data['2018':]\n",
    "test_data.head()\n",
    "test_data.to_csv('ETCBTC2018.csv')"
   ]
  },
  {
   "cell_type": "code",
   "execution_count": null,
   "metadata": {},
   "outputs": [],
   "source": []
  }
 ],
 "metadata": {
  "kernelspec": {
   "display_name": "Python 3",
   "language": "python",
   "name": "python3"
  },
  "language_info": {
   "codemirror_mode": {
    "name": "ipython",
    "version": 3
   },
   "file_extension": ".py",
   "mimetype": "text/x-python",
   "name": "python",
   "nbconvert_exporter": "python",
   "pygments_lexer": "ipython3",
   "version": "3.6.7"
  }
 },
 "nbformat": 4,
 "nbformat_minor": 2
}
